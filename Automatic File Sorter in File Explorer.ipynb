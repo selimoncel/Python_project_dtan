{
 "cells": [
  {
   "cell_type": "markdown",
   "id": "367faa57",
   "metadata": {},
   "source": [
    "# Automatic File Sorter İn File Explorer"
   ]
  },
  {
   "cell_type": "code",
   "execution_count": 82,
   "id": "03f019df",
   "metadata": {},
   "outputs": [],
   "source": [
    "import os,shutil"
   ]
  },
  {
   "cell_type": "code",
   "execution_count": 83,
   "id": "25253192",
   "metadata": {},
   "outputs": [],
   "source": [
    "path = r\"C:/Users/selimonceldtan/Desktop/FOTO/\""
   ]
  },
  {
   "cell_type": "code",
   "execution_count": 84,
   "id": "a65100c6",
   "metadata": {},
   "outputs": [],
   "source": [
    "file_name = os.listdir(path)"
   ]
  },
  {
   "cell_type": "code",
   "execution_count": 86,
   "id": "0c11e567",
   "metadata": {},
   "outputs": [
    {
     "name": "stdout",
     "output_type": "stream",
     "text": [
      "they already exist\n",
      "they already exist\n",
      "they already exist\n",
      "there are files in this path that were not moved\n",
      "there are files in this path that were not moved\n",
      "there are files in this path that were not moved\n"
     ]
    }
   ],
   "source": [
    "folder_names = ['csv files', 'image files', 'text files']\n",
    "\n",
    "for loop in range(0,3):\n",
    "    if not os.path.exists(path + folder_names[loop]) :\n",
    "                  \n",
    "       # print (path + folder_names [loop]) \n",
    "        os.makedirs(path + folder_names [loop])\n",
    "    else:\n",
    "            print(\"they already exist\")\n",
    "            \n",
    "            \n",
    "            \n",
    "for file in file_name :\n",
    "    if \".csv\" in file and not os.path.exists(path + \"csv files/\" + file) : \n",
    "        shutil.move(path + file, path + \"csv files/\" + file) \n",
    "        \n",
    "        \n",
    "    elif \".JPG\" in file and not os. path.exists(path + \"image files/\" + file) :\n",
    "        shutil.move(path + file, path + \"image files/\" + file)\n",
    "    elif \".txt\" in file and not os.path.exists(path + \"text files/\" + file) : \n",
    "                shutil.move(path + file, path + \"text files/\" + file)\n",
    "    else:\n",
    "        print(\"there are files in this path that were not moved\")"
   ]
  },
  {
   "cell_type": "code",
   "execution_count": 81,
   "id": "6a8a0d60",
   "metadata": {
    "scrolled": true
   },
   "outputs": [],
   "source": []
  },
  {
   "cell_type": "code",
   "execution_count": null,
   "id": "db7a20a3",
   "metadata": {},
   "outputs": [],
   "source": []
  },
  {
   "cell_type": "code",
   "execution_count": null,
   "id": "280347c8",
   "metadata": {},
   "outputs": [],
   "source": []
  },
  {
   "cell_type": "code",
   "execution_count": null,
   "id": "3f8d908b",
   "metadata": {},
   "outputs": [],
   "source": []
  },
  {
   "cell_type": "code",
   "execution_count": null,
   "id": "480aaf07",
   "metadata": {},
   "outputs": [],
   "source": []
  }
 ],
 "metadata": {
  "kernelspec": {
   "display_name": "Python 3 (ipykernel)",
   "language": "python",
   "name": "python3"
  },
  "language_info": {
   "codemirror_mode": {
    "name": "ipython",
    "version": 3
   },
   "file_extension": ".py",
   "mimetype": "text/x-python",
   "name": "python",
   "nbconvert_exporter": "python",
   "pygments_lexer": "ipython3",
   "version": "3.11.5"
  }
 },
 "nbformat": 4,
 "nbformat_minor": 5
}
