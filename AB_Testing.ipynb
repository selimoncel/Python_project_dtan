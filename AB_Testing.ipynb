{
 "cells": [
  {
   "cell_type": "code",
   "execution_count": 2,
   "id": "1ed0e919-d2cb-460b-9824-f9e6a98c812b",
   "metadata": {
    "tags": []
   },
   "outputs": [],
   "source": [
    "import numpy as np\n",
    "import scipy.stats as stats "
   ]
  },
  {
   "cell_type": "code",
   "execution_count": 3,
   "id": "46fcfbea-0502-4969-bad5-b267b4050409",
   "metadata": {
    "tags": []
   },
   "outputs": [
    {
     "name": "stdout",
     "output_type": "stream",
     "text": [
      "Mean of A: 10.559808015534486, Standard Deviation of A: 1.0078822447165796\n",
      "Mean of B: 10.060582852075699, Standard Deviation of B: 0.8851562138315852\n",
      "T-Statistic: 3.7030440551864903\n",
      "P-Value: 0.0002761962602085069\n",
      "Reject the null hypothesis. The means of groups A and B are significantly different.\n"
     ]
    }
   ],
   "source": [
    "\n",
    "\n",
    "# Setting seeds for random number generators\n",
    "np.random.seed(0)\n",
    "A = np.random.normal(loc=10.5, scale=1, size=100)\n",
    "\n",
    "np.random.seed(1)\n",
    "B = np.random.normal(loc=10, scale=1, size=100)\n",
    "\n",
    "# Calculating mean and standard deviation for A and B\n",
    "mean_A = np.mean(A)\n",
    "mean_B = np.mean(B)\n",
    "std_A = np.std(A)\n",
    "std_B = np.std(B)\n",
    "\n",
    "# Performing independent t-test\n",
    "t_statistic, p_value = stats.ttest_ind(A, B)\n",
    "\n",
    "# Printing the results\n",
    "print(f\"Mean of A: {mean_A}, Standard Deviation of A: {std_A}\")\n",
    "print(f\"Mean of B: {mean_B}, Standard Deviation of B: {std_B}\")\n",
    "print(f\"T-Statistic: {t_statistic}\")\n",
    "print(f\"P-Value: {p_value}\")\n",
    "\n",
    "# Interpreting the AB test result\n",
    "alpha = 0.05\n",
    "if p_value < alpha:\n",
    "    print(\"Reject the null hypothesis. The means of groups A and B are significantly different.\")\n",
    "else:\n",
    "    print(\"Fail to reject the null hypothesis. The means of groups A and B are not significantly different.\")\n"
   ]
  },
  {
   "cell_type": "code",
   "execution_count": null,
   "id": "f6087dab-2bf5-45a0-bd05-d68473ba5f62",
   "metadata": {},
   "outputs": [],
   "source": []
  }
 ],
 "metadata": {
  "kernelspec": {
   "display_name": "Python 3 (ipykernel)",
   "language": "python",
   "name": "python3"
  },
  "language_info": {
   "codemirror_mode": {
    "name": "ipython",
    "version": 3
   },
   "file_extension": ".py",
   "mimetype": "text/x-python",
   "name": "python",
   "nbconvert_exporter": "python",
   "pygments_lexer": "ipython3",
   "version": "3.11.5"
  }
 },
 "nbformat": 4,
 "nbformat_minor": 5
}
